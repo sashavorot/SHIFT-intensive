{
  "cells": [
    {
      "cell_type": "markdown",
      "metadata": {
        "id": "view-in-github",
        "colab_type": "text"
      },
      "source": [
        "<a href=\"https://colab.research.google.com/github/sashavorot/SHIFT-intensive/blob/main/deep_n_diggers_2nd_note_predict.ipynb\" target=\"_parent\"><img src=\"https://colab.research.google.com/assets/colab-badge.svg\" alt=\"Open In Colab\"/></a>"
      ]
    },
    {
      "cell_type": "markdown",
      "metadata": {
        "id": "-TsTbCp-Jc52"
      },
      "source": [
        "## Предобработка данных"
      ]
    },
    {
      "cell_type": "markdown",
      "metadata": {
        "id": "ISRdRLpjxkg1"
      },
      "source": [
        "### Импорт библиотек"
      ]
    },
    {
      "cell_type": "code",
      "execution_count": null,
      "metadata": {
        "id": "hRwRksWbDIde"
      },
      "outputs": [],
      "source": [
        "from google.colab import drive\n",
        "drive.mount('/content/gdrive')"
      ]
    },
    {
      "cell_type": "code",
      "execution_count": null,
      "metadata": {
        "id": "bSle4LbHQLml"
      },
      "outputs": [],
      "source": [
        "pip install catboost"
      ]
    },
    {
      "cell_type": "code",
      "execution_count": null,
      "metadata": {
        "id": "2nxUx_JLEF-E"
      },
      "outputs": [],
      "source": [
        "import pandas as pd\n",
        "import numpy as np\n",
        "import matplotlib.pyplot as plt\n",
        "from sklearn.model_selection import train_test_split\n",
        "from sklearn.preprocessing import StandardScaler, PowerTransformer, PolynomialFeatures\n",
        "from sklearn.metrics import mean_absolute_error, mean_squared_error, r2_score\n",
        "from catboost import CatBoostRegressor"
      ]
    },
    {
      "cell_type": "markdown",
      "metadata": {
        "id": "L_eJjfFGKVtL"
      },
      "source": [
        "### Предобрабока"
      ]
    },
    {
      "cell_type": "code",
      "execution_count": null,
      "metadata": {
        "id": "cFZNbUEu29iJ"
      },
      "outputs": [],
      "source": [
        "df = pd.read_csv('./gdrive/MyDrive/SHIFT_SUMMER/train.csv', index_col=0)\n",
        "x = df.drop(columns=['price_doc'])\n",
        "y = df['price_doc']\n",
        "\n",
        "x_train, x_test, y_train, y_test = train_test_split(x, y, test_size=0.2, random_state=42)\n",
        "\n",
        "# Нормализация в train и test\n",
        "scaler = StandardScaler()\n",
        "x_train_scaled = scaler.fit_transform(x_train)\n",
        "x_test_scaled = scaler.transform(x_test)\n",
        "\n",
        "pt = PowerTransformer(method='yeo-johnson')\n",
        "x_train_normalized = pt.fit_transform(x_train_scaled)\n",
        "x_test_normalized = pt.transform(x_test_scaled)\n",
        "\n",
        "# Добавление полиномиальных признаков (квадратов и попарных произведений друг с другом)\n",
        "poly = PolynomialFeatures(degree=2, include_bias=False)\n",
        "x_train_poly = poly.fit_transform(x_train_normalized)\n",
        "x_test_poly = poly.transform(x_test_normalized)"
      ]
    },
    {
      "cell_type": "markdown",
      "metadata": {
        "id": "Xrrp9UILKK0Y"
      },
      "source": [
        "## Предсказание"
      ]
    },
    {
      "cell_type": "markdown",
      "metadata": {
        "id": "mBrIACO4vTVZ"
      },
      "source": [
        "### Boosting\n"
      ]
    },
    {
      "cell_type": "code",
      "execution_count": null,
      "metadata": {
        "id": "kmeyQ4z14onm"
      },
      "outputs": [],
      "source": [
        "%%time\n",
        "model = CatBoostRegressor()\n",
        "model.fit(x_train_poly, y_train)"
      ]
    },
    {
      "cell_type": "code",
      "execution_count": null,
      "metadata": {
        "id": "skZjxbGUK47v"
      },
      "outputs": [],
      "source": [
        "# Предсказание на обучающей выборке\n",
        "y_pred_cb_train = model.predict(x_train_poly)\n",
        "\n",
        "r2_train_cb = r2_score(y_train, y_pred_cb_train)\n",
        "mse_train_cb = mean_squared_error(y_train, y_pred_cb_train)\n",
        "rmse_train_cb = np.sqrt(mse_train_cb)\n",
        "mae_train_cb = mean_absolute_error(y_train, y_pred_cb_train)"
      ]
    },
    {
      "cell_type": "code",
      "execution_count": null,
      "metadata": {
        "id": "x92GDflxK4m9"
      },
      "outputs": [],
      "source": [
        "# Предсказание на тестовой выборке\n",
        "y_pred_cb = model.predict(x_test_poly)\n",
        "\n",
        "r2_test_cb = r2_score(y_test, y_pred_cb)\n",
        "mse_test_cb = mean_squared_error(y_test, y_pred_cb)\n",
        "rmse_test_cb = np.sqrt(mse_test_cb)\n",
        "mae_test_cb = mean_absolute_error(y_test, y_pred_cb)"
      ]
    },
    {
      "cell_type": "markdown",
      "metadata": {
        "id": "Vax4Vj7pGRiU"
      },
      "source": [
        "### Результаты"
      ]
    },
    {
      "cell_type": "code",
      "execution_count": null,
      "metadata": {
        "id": "7sWXJOh9GILk"
      },
      "outputs": [],
      "source": [
        "pd.DataFrame({'Train': [r2_train_cb, mse_train_cb, rmse_train_cb, mae_train_cb],\n",
        "              'Test': [r2_test_cb, mse_test_cb, rmse_test_cb, mae_test_cb]\n",
        "             },\n",
        "              index=['R2', 'MSE', 'RMSE', 'MAE'])"
      ]
    },
    {
      "cell_type": "markdown",
      "metadata": {
        "id": "IVeDDRr_E1rY"
      },
      "source": [
        "### Submit_load"
      ]
    },
    {
      "cell_type": "code",
      "execution_count": null,
      "metadata": {
        "id": "Z7s72DxSEXRg"
      },
      "outputs": [],
      "source": [
        "submission = pd.read_csv('./gdrive/MyDrive/SHIFT_SUMMER/starting_k/submission.csv', index_col=0)\n",
        "new_data = pd.read_csv('./gdrive/MyDrive/SHIFT_SUMMER/starting_k/test.csv', index_col=0)\n",
        "new_data_scaled = scaler.transform(new_data[x.columns])\n",
        "new_data_normalized = pt.transform(new_data_scaled)\n",
        "new_data_poly = poly.transform(new_data_normalized)\n",
        "new_predictions = model.predict(new_data_poly)\n",
        "\n",
        "submission['price_doc'] = new_predictions\n",
        "\n",
        "submission.to_csv('./gdrive/MyDrive/SHIFT_SUMMER/submission.csv')"
      ]
    }
  ],
  "metadata": {
    "colab": {
      "provenance": [],
      "toc_visible": true,
      "include_colab_link": true
    },
    "kernelspec": {
      "display_name": "Python 3",
      "name": "python3"
    },
    "language_info": {
      "name": "python"
    }
  },
  "nbformat": 4,
  "nbformat_minor": 0
}